{
 "cells": [
  {
   "cell_type": "code",
   "execution_count": 1,
   "metadata": {},
   "outputs": [],
   "source": [
    "import numpy as np\n",
    "import pandas as pd\n",
    "import matplotlib.pyplot as plt\n",
    "import tensorflow as tf \n",
    "from PIL import Image\n",
    "import os \n",
    "from sklearn.model_selection import train_test_split \n",
    "from keras.utils import to_categorical \n",
    "from keras.models import Sequential \n",
    "from keras.layers import Conv2D, MaxPool2D, Dense, Flatten, Dropout\n"
   ]
  },
  {
   "cell_type": "code",
   "execution_count": 2,
   "metadata": {},
   "outputs": [],
   "source": [
    "data = []\n",
    "labels = []\n",
    "classes = 43\n",
    "cur_path = os.getcwd()\n",
    "#Retrieving the images and their labels\n",
    "for i in range(classes):\n",
    "   path = os.path.join(cur_path,'train',str(i))\n",
    "   images = os.listdir(path)\n",
    "   for a in images:\n",
    "        try:\n",
    "                image = Image.open(path+\"/\"+ str(a))\n",
    "                image = image.resize((30,30))\n",
    "                image = np.array(image)\n",
    "                #sim = Image.fromarray(image)\n",
    "                data.append(image)\n",
    "                labels.append(i)\n",
    "        except:\n",
    "                print(\"Error loading image\")\n"
   ]
  },
  {
   "cell_type": "code",
   "execution_count": 3,
   "metadata": {},
   "outputs": [
    {
     "name": "stdout",
     "output_type": "stream",
     "text": [
      "(39209, 30, 30, 3) (39209,)\n",
      "(31367, 30, 30, 3) (7842, 30, 30, 3) (31367,) (7842,)\n"
     ]
    }
   ],
   "source": [
    "#Converting lists into numpy arrays\n",
    "data = np.array(data)\n",
    "labels = np.array(labels)\n",
    "print(data.shape, labels.shape)\n",
    "#Splitting training and testing dataset\n",
    "X_t1, X_t2, y_t1, y_t2 = train_test_split(data, labels, test_size=0.2, random_state=42)\n",
    "print(X_t1.shape, X_t2.shape, y_t1.shape, y_t2.shape)\n",
    "#Converting the labels into one hot encoding\n",
    "y_t1 = to_categorical(y_t1, 43)\n",
    "y_t2 = to_categorical(y_t2, 43)"
   ]
  },
  {
   "cell_type": "code",
   "execution_count": 4,
   "metadata": {},
   "outputs": [],
   "source": [
    "#Building the model\n",
    "model = Sequential()\n",
    "model.add(Conv2D(filters=32, kernel_size=(5,5), activation='relu', input_shape=X_t1.shape[1:]))\n",
    "model.add(Conv2D(filters=32, kernel_size=(5,5), activation='relu'))\n",
    "model.add(MaxPool2D(pool_size=(2, 2)))\n",
    "model.add(Dropout(rate=0.25))\n",
    "model.add(Conv2D(filters=64, kernel_size=(3, 3), activation='relu'))\n",
    "model.add(Conv2D(filters=64, kernel_size=(3, 3), activation='relu'))\n",
    "model.add(MaxPool2D(pool_size=(2, 2)))\n",
    "model.add(Dropout(rate=0.25))\n",
    "model.add(Flatten())\n",
    "model.add(Dense(256, activation='relu'))\n",
    "model.add(Dropout(rate=0.5))\n",
    "model.add(Dense(43, activation='softmax'))\n",
    "#Compilation of the model\n",
    "model.compile(loss='categorical_crossentropy', optimizer='adam', metrics=['accuracy'])"
   ]
  },
  {
   "cell_type": "code",
   "execution_count": 5,
   "metadata": {},
   "outputs": [
    {
     "data": {
      "text/plain": [
       "<bound method Model.summary of <keras.engine.sequential.Sequential object at 0x000002641E3F7510>>"
      ]
     },
     "execution_count": 5,
     "metadata": {},
     "output_type": "execute_result"
    }
   ],
   "source": [
    "model.summary"
   ]
  },
  {
   "cell_type": "code",
   "execution_count": 6,
   "metadata": {},
   "outputs": [
    {
     "name": "stdout",
     "output_type": "stream",
     "text": [
      "Epoch 1/15\n",
      "491/491 [==============================] - 159s 315ms/step - loss: 2.0490 - accuracy: 0.5066 - val_loss: 0.3927 - val_accuracy: 0.9068\n",
      "Epoch 2/15\n",
      "491/491 [==============================] - 157s 320ms/step - loss: 0.4860 - accuracy: 0.8609 - val_loss: 0.1178 - val_accuracy: 0.9719\n",
      "Epoch 3/15\n",
      "491/491 [==============================] - 354s 722ms/step - loss: 0.2919 - accuracy: 0.9179 - val_loss: 0.0921 - val_accuracy: 0.9791\n",
      "Epoch 4/15\n",
      "491/491 [==============================] - 160s 326ms/step - loss: 0.2161 - accuracy: 0.9405 - val_loss: 0.0617 - val_accuracy: 0.9860\n",
      "Epoch 5/15\n",
      "491/491 [==============================] - 160s 326ms/step - loss: 0.1818 - accuracy: 0.9505 - val_loss: 0.0416 - val_accuracy: 0.9902\n",
      "Epoch 6/15\n",
      "491/491 [==============================] - 158s 322ms/step - loss: 0.1476 - accuracy: 0.9591 - val_loss: 0.0393 - val_accuracy: 0.9904\n",
      "Epoch 7/15\n",
      "491/491 [==============================] - 156s 317ms/step - loss: 0.1454 - accuracy: 0.9598 - val_loss: 0.0378 - val_accuracy: 0.9913\n",
      "Epoch 8/15\n",
      "491/491 [==============================] - 150s 305ms/step - loss: 0.1393 - accuracy: 0.9624 - val_loss: 0.0508 - val_accuracy: 0.9874\n",
      "Epoch 9/15\n",
      "491/491 [==============================] - 149s 304ms/step - loss: 0.1282 - accuracy: 0.9658 - val_loss: 0.0473 - val_accuracy: 0.9871\n",
      "Epoch 10/15\n",
      "491/491 [==============================] - 162s 330ms/step - loss: 0.1215 - accuracy: 0.9673 - val_loss: 0.0329 - val_accuracy: 0.9922\n",
      "Epoch 11/15\n",
      "491/491 [==============================] - 162s 331ms/step - loss: 0.1141 - accuracy: 0.9700 - val_loss: 0.0229 - val_accuracy: 0.9949\n",
      "Epoch 12/15\n",
      "491/491 [==============================] - 151s 307ms/step - loss: 0.1177 - accuracy: 0.9691 - val_loss: 0.0314 - val_accuracy: 0.9922\n",
      "Epoch 13/15\n",
      "491/491 [==============================] - 154s 313ms/step - loss: 0.1115 - accuracy: 0.9712 - val_loss: 0.0172 - val_accuracy: 0.9963\n",
      "Epoch 14/15\n",
      "491/491 [==============================] - 168s 341ms/step - loss: 0.1062 - accuracy: 0.9718 - val_loss: 0.0303 - val_accuracy: 0.9921\n",
      "Epoch 15/15\n",
      "491/491 [==============================] - 190s 386ms/step - loss: 0.1166 - accuracy: 0.9698 - val_loss: 0.0427 - val_accuracy: 0.9898\n"
     ]
    }
   ],
   "source": [
    "eps = 15\n",
    "traffic = model.fit(X_t1, y_t1, batch_size=64, epochs=eps, validation_data=(X_t2, y_t2))"
   ]
  },
  {
   "cell_type": "code",
   "execution_count": 7,
   "metadata": {},
   "outputs": [],
   "source": [
    "model.save(\"my_model.h5\")"
   ]
  },
  {
   "cell_type": "code",
   "execution_count": 8,
   "metadata": {},
   "outputs": [
    {
     "data": {
      "image/png": "[encoded data removed]",
      "text/plain": [
       "<Figure size 640x480 with 1 Axes>"
      ]
     },
     "metadata": {},
     "output_type": "display_data"
    },
    {
     "data": {
      "image/png": "[encoded data removed]",
      "text/plain": [
       "<Figure size 640x480 with 1 Axes>"
      ]
     },
     "metadata": {},
     "output_type": "display_data"
    }
   ],
   "source": [
    "#plotting graphs for accuracy\n",
    "plt.figure(0)\n",
    "plt.plot(traffic.history['accuracy'], label='training accuracy')\n",
    "plt.plot(traffic.history['val_accuracy'], label='val accuracy')\n",
    "plt.title('Accuracy')\n",
    "plt.xlabel('epochs')\n",
    "plt.ylabel('accuracy')\n",
    "plt.legend()\n",
    "plt.show()\n",
    "plt.figure(1)\n",
    "plt.plot(traffic.history['loss'], label='training loss')\n",
    "plt.plot(traffic.history['val_loss'], label='val loss')\n",
    "plt.title('Loss')\n",
    "plt.xlabel('epochs')\n",
    "plt.ylabel('loss')\n",
    "plt.legend()\n",
    "plt.show()"
   ]
  },
  {
   "cell_type": "code",
   "execution_count": 9,
   "metadata": {},
   "outputs": [],
   "source": [
    "#testing accuracy on test dataset\n",
    "from sklearn.metrics import accuracy_score\n",
    "y_test = pd.read_csv('Test.csv')\n",
    "labels = y_test[\"ClassId\"].values\n",
    "imgs = y_test[\"Path\"].values\n",
    "data=[]\n",
    "for img in imgs:\n",
    "   image = Image.open(img)\n",
    "   image = image.resize((30,30))\n",
    "   data.append(np.array(image))\n",
    "X_test=np.array(data)\n",
    "\n"
   ]
  },
  {
   "cell_type": "code",
   "execution_count": 10,
   "metadata": {},
   "outputs": [
    {
     "data": {
      "text/plain": [
       "array([16,  1, 38, ...,  6,  7, 10], dtype=int64)"
      ]
     },
     "execution_count": 10,
     "metadata": {},
     "output_type": "execute_result"
    }
   ],
   "source": [
    "labels"
   ]
  },
  {
   "cell_type": "code",
   "execution_count": 19,
   "metadata": {},
   "outputs": [
    {
     "name": "stdout",
     "output_type": "stream",
     "text": [
      "395/395 [==============================] - 16s 41ms/step\n"
     ]
    }
   ],
   "source": [
    "ypred = model.predict(X_test)"
   ]
  },
  {
   "cell_type": "code",
   "execution_count": 20,
   "metadata": {},
   "outputs": [
    {
     "data": {
      "text/plain": [
       "array([[2.7266858e-21, 6.5895818e-16, 1.4038198e-19, ..., 3.2540478e-14,\n",
       "        1.9330711e-17, 9.6278761e-17],\n",
       "       [8.4233666e-27, 1.0000000e+00, 3.4080128e-19, ..., 1.0838145e-29,\n",
       "        0.0000000e+00, 0.0000000e+00],\n",
       "       [0.0000000e+00, 0.0000000e+00, 0.0000000e+00, ..., 0.0000000e+00,\n",
       "        0.0000000e+00, 0.0000000e+00],\n",
       "       ...,\n",
       "       [2.1785378e-05, 1.0880911e-02, 8.1380625e-04, ..., 2.3891672e-03,\n",
       "        1.4649702e-03, 3.7375483e-01],\n",
       "       [4.4127537e-16, 3.1284180e-09, 1.6430777e-11, ..., 7.6630968e-10,\n",
       "        1.4179572e-18, 1.1752815e-10],\n",
       "       [5.1035364e-20, 2.5668330e-11, 4.1388633e-12, ..., 2.0338837e-12,\n",
       "        1.3927731e-19, 5.6584370e-13]], dtype=float32)"
      ]
     },
     "execution_count": 20,
     "metadata": {},
     "output_type": "execute_result"
    }
   ],
   "source": [
    "ypred"
   ]
  },
  {
   "cell_type": "code",
   "execution_count": 21,
   "metadata": {},
   "outputs": [],
   "source": [
    "ypreda=np.argmax(ypred,axis=1)"
   ]
  },
  {
   "cell_type": "code",
   "execution_count": 22,
   "metadata": {},
   "outputs": [
    {
     "data": {
      "text/plain": [
       "array([16,  1, 38, ...,  6,  7, 10], dtype=int64)"
      ]
     },
     "execution_count": 22,
     "metadata": {},
     "output_type": "execute_result"
    }
   ],
   "source": [
    "ypreda"
   ]
  },
  {
   "cell_type": "code",
   "execution_count": 23,
   "metadata": {},
   "outputs": [
    {
     "name": "stdout",
     "output_type": "stream",
     "text": [
      "0.9557403008709422\n"
     ]
    }
   ],
   "source": [
    "from sklearn.metrics import accuracy_score\n",
    "#Accuracy with the test data\n",
    "print(accuracy_score(labels, ypreda))\n",
    "model.save('traffic_classifier.h5')"
   ]
  },
  {
   "cell_type": "code",
   "execution_count": null,
   "metadata": {},
   "outputs": [],
   "source": []
  },
  {
   "cell_type": "code",
   "execution_count": null,
   "metadata": {},
   "outputs": [],
   "source": []
  }
 ],
 "metadata": {
  "kernelspec": {
   "display_name": "Python 3",
   "language": "python",
   "name": "python3"
  },
  "language_info": {
   "codemirror_mode": {
    "name": "ipython",
    "version": 3
   },
   "file_extension": ".py",
   "mimetype": "text/x-python",
   "name": "python",
   "nbconvert_exporter": "python",
   "pygments_lexer": "ipython3",
   "version": "3.11.2"
  },
  "orig_nbformat": 4
 },
 "nbformat": 4,
 "nbformat_minor": 2
}
